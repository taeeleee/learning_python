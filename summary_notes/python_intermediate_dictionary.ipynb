{
  "nbformat": 4,
  "nbformat_minor": 0,
  "metadata": {
    "colab": {
      "provenance": [],
      "toc_visible": true
    },
    "kernelspec": {
      "name": "python3",
      "display_name": "Python 3"
    },
    "language_info": {
      "name": "python"
    }
  },
  "cells": [
    {
      "cell_type": "markdown",
      "source": [
        "# _**도움되는 명령어들**_"
      ],
      "metadata": {
        "id": "WOBu4YWKoY5H"
      }
    },
    {
      "cell_type": "code",
      "source": [
        "import this     #The Philosophy of Python"
      ],
      "metadata": {
        "id": "710Ux6kopOTz"
      },
      "execution_count": null,
      "outputs": []
    },
    {
      "cell_type": "code",
      "source": [
        "help('keywords')      #use help when you don't know what a certain command means"
      ],
      "metadata": {
        "colab": {
          "base_uri": "https://localhost:8080/"
        },
        "collapsed": true,
        "id": "pwEZsOTpnPpq",
        "outputId": "f60720ce-e6eb-482c-c1fb-59c23e04116b"
      },
      "execution_count": null,
      "outputs": [
        {
          "output_type": "stream",
          "name": "stdout",
          "text": [
            "\n",
            "Here is a list of the Python keywords.  Enter any keyword to get more help.\n",
            "\n",
            "False               class               from                or\n",
            "None                continue            global              pass\n",
            "True                def                 if                  raise\n",
            "and                 del                 import              return\n",
            "as                  elif                in                  try\n",
            "assert              else                is                  while\n",
            "async               except              lambda              with\n",
            "await               finally             nonlocal            yield\n",
            "break               for                 not                 \n",
            "\n"
          ]
        }
      ]
    },
    {
      "cell_type": "code",
      "source": [
        "dir('keywords')"
      ],
      "metadata": {
        "colab": {
          "base_uri": "https://localhost:8080/"
        },
        "collapsed": true,
        "id": "00ybkRARnTyx",
        "outputId": "fc79a8d5-fe76-4bdf-e71f-eafc634f4508"
      },
      "execution_count": null,
      "outputs": [
        {
          "output_type": "execute_result",
          "data": {
            "text/plain": [
              "['__add__',\n",
              " '__class__',\n",
              " '__contains__',\n",
              " '__delattr__',\n",
              " '__dir__',\n",
              " '__doc__',\n",
              " '__eq__',\n",
              " '__format__',\n",
              " '__ge__',\n",
              " '__getattribute__',\n",
              " '__getitem__',\n",
              " '__getnewargs__',\n",
              " '__getstate__',\n",
              " '__gt__',\n",
              " '__hash__',\n",
              " '__init__',\n",
              " '__init_subclass__',\n",
              " '__iter__',\n",
              " '__le__',\n",
              " '__len__',\n",
              " '__lt__',\n",
              " '__mod__',\n",
              " '__mul__',\n",
              " '__ne__',\n",
              " '__new__',\n",
              " '__reduce__',\n",
              " '__reduce_ex__',\n",
              " '__repr__',\n",
              " '__rmod__',\n",
              " '__rmul__',\n",
              " '__setattr__',\n",
              " '__sizeof__',\n",
              " '__str__',\n",
              " '__subclasshook__',\n",
              " 'capitalize',\n",
              " 'casefold',\n",
              " 'center',\n",
              " 'count',\n",
              " 'encode',\n",
              " 'endswith',\n",
              " 'expandtabs',\n",
              " 'find',\n",
              " 'format',\n",
              " 'format_map',\n",
              " 'index',\n",
              " 'isalnum',\n",
              " 'isalpha',\n",
              " 'isascii',\n",
              " 'isdecimal',\n",
              " 'isdigit',\n",
              " 'isidentifier',\n",
              " 'islower',\n",
              " 'isnumeric',\n",
              " 'isprintable',\n",
              " 'isspace',\n",
              " 'istitle',\n",
              " 'isupper',\n",
              " 'join',\n",
              " 'ljust',\n",
              " 'lower',\n",
              " 'lstrip',\n",
              " 'maketrans',\n",
              " 'partition',\n",
              " 'removeprefix',\n",
              " 'removesuffix',\n",
              " 'replace',\n",
              " 'rfind',\n",
              " 'rindex',\n",
              " 'rjust',\n",
              " 'rpartition',\n",
              " 'rsplit',\n",
              " 'rstrip',\n",
              " 'split',\n",
              " 'splitlines',\n",
              " 'startswith',\n",
              " 'strip',\n",
              " 'swapcase',\n",
              " 'title',\n",
              " 'translate',\n",
              " 'upper',\n",
              " 'zfill']"
            ]
          },
          "metadata": {},
          "execution_count": 2
        }
      ]
    },
    {
      "cell_type": "code",
      "source": [
        "type()            #class의 이름이 나옴\n",
        "                  #type라고 출력될 경우 class라는 뜻\n",
        "                  #a.__class__(phythonic style로 표현한 것)이랑 똑같은 결과값을 출력함 (단, dunder은 순서대로 보여준다는 장점을 가짐)"
      ],
      "metadata": {
        "collapsed": true,
        "id": "bMseYmiCWOzG"
      },
      "execution_count": null,
      "outputs": []
    },
    {
      "cell_type": "code",
      "source": [
        "!pwd      #지금 내가 들어있는 폴더(저장되고 있는 곳)\n",
        "          # the print working directory is a command used to display the current working directory, which is the location within your Colab environment where your notebook is currently running."
      ],
      "metadata": {
        "colab": {
          "base_uri": "https://localhost:8080/"
        },
        "id": "bcxydtXenZZW",
        "outputId": "bf5f3fb2-e983-4a10-db94-c31939530c7f"
      },
      "execution_count": null,
      "outputs": [
        {
          "output_type": "stream",
          "name": "stdout",
          "text": [
            "/content\n"
          ]
        }
      ]
    },
    {
      "cell_type": "code",
      "source": [
        "!ls     #a command that is used to list the files and directories in the current working directory within your Colab environment"
      ],
      "metadata": {
        "colab": {
          "base_uri": "https://localhost:8080/"
        },
        "id": "UsP2_TUrnhWM",
        "outputId": "f397b0c5-180c-4284-c704-cdaf0bf93ed0"
      },
      "execution_count": null,
      "outputs": [
        {
          "output_type": "stream",
          "name": "stdout",
          "text": [
            "sample_data\n"
          ]
        }
      ]
    },
    {
      "cell_type": "code",
      "source": [
        "try:            #에러가 나더라도 무조건 코드가 출력되겠금 하는 try-finally statement\n",
        "  print('')\n",
        "finally:\n",
        "  print('')\n",
        "\n",
        "\n",
        "\n",
        "try:\n",
        "  print('')\n",
        "except:\n",
        "  print('')"
      ],
      "metadata": {
        "colab": {
          "base_uri": "https://localhost:8080/"
        },
        "id": "R9xJHv5yuy2i",
        "outputId": "515ad280-2d83-47fb-e83a-49d79c6aee32"
      },
      "execution_count": null,
      "outputs": [
        {
          "output_type": "stream",
          "name": "stdout",
          "text": [
            "\n",
            "\n",
            "\n"
          ]
        }
      ]
    },
    {
      "cell_type": "code",
      "source": [
        "def x():\n",
        "  pass                   # pass는 \"지금은 형태만 만들어두고 다시 돌아와서 pass 채워넣으러 올께요~\"\" 라는 뜻\n",
        "\n",
        "\n",
        "def x():\n",
        "  NotImplemented         #NotImplemented는 \"아직 구현되지 않았다\"라는 뜻\n",
        "\n",
        "\n",
        "\n",
        "def x():\n",
        " raise NotImplemented    #NotImplemented는 \"아직 구현되지 않았다\"라는 뜻"
      ],
      "metadata": {
        "id": "o_Z68RK529a9"
      },
      "execution_count": null,
      "outputs": []
    },
    {
      "cell_type": "code",
      "source": [
        "all('')       #()내부 모든 애들이 true인지 false인지 확인할 수 있게 해줌"
      ],
      "metadata": {
        "colab": {
          "base_uri": "https://localhost:8080/"
        },
        "id": "_OLoqNmwKYOh",
        "outputId": "c0de5115-dfdb-4b13-fbfa-63ccdac92e72"
      },
      "execution_count": null,
      "outputs": [
        {
          "output_type": "execute_result",
          "data": {
            "text/plain": [
              "True"
            ]
          },
          "metadata": {},
          "execution_count": 2
        }
      ]
    },
    {
      "cell_type": "code",
      "source": [
        "# a cell magic command for special tasks like timing and profiling\n",
        "%%writefile         # text쓸 때\n",
        "%%timeit            # 출력될 때까지 얼마나 걸리는지 측정해줌"
      ],
      "metadata": {
        "colab": {
          "base_uri": "https://localhost:8080/"
        },
        "collapsed": true,
        "id": "k196H91YSKuJ",
        "outputId": "011d1e44-bd75-4675-f43c-6004edd02751"
      },
      "execution_count": null,
      "outputs": [
        {
          "output_type": "stream",
          "name": "stderr",
          "text": [
            "UsageError: unrecognized arguments: text쓸 때\n"
          ]
        }
      ]
    },
    {
      "cell_type": "code",
      "source": [
        "# 파이썬은 '책임분리'라는 것을 함\n",
        "# 잘게잘게 역할을 하나하나 나누는 '유연성'이 있음\n",
        "# __ 는 double underbar (dunder)이라고 부름\n",
        "\n",
        "__new__('')     # creates the object(값) itseslf before the object is created\n",
        "\n",
        "__init__('')    # initializes the object after the object is created, in other words, 객체를 초기에 정의해주는 역할을 함 (return을 하면 오류가 떠야 정상)"
      ],
      "metadata": {
        "colab": {
          "base_uri": "https://localhost:8080/"
        },
        "collapsed": true,
        "id": "Vl8YMZ6b1y9S",
        "outputId": "0f9b4e7c-5e98-4b62-c157-62054995c2a4"
      },
      "execution_count": null,
      "outputs": [
        {
          "output_type": "error",
          "ename": "NameError",
          "evalue": "name '__new__' is not defined",
          "traceback": [
            "\u001b[0;31m---------------------------------------------------------------------------\u001b[0m",
            "\u001b[0;31mNameError\u001b[0m                                 Traceback (most recent call last)",
            "\u001b[0;32m<ipython-input-5-d78abf12da6a>\u001b[0m in \u001b[0;36m<cell line: 0>\u001b[0;34m()\u001b[0m\n\u001b[1;32m      3\u001b[0m \u001b[0;31m# __ 는 double underbar (dunder)이라고 부름\u001b[0m\u001b[0;34m\u001b[0m\u001b[0;34m\u001b[0m\u001b[0m\n\u001b[1;32m      4\u001b[0m \u001b[0;34m\u001b[0m\u001b[0m\n\u001b[0;32m----> 5\u001b[0;31m \u001b[0m__new__\u001b[0m\u001b[0;34m(\u001b[0m\u001b[0;34m''\u001b[0m\u001b[0;34m)\u001b[0m     \u001b[0;31m# creates the object(값) itseslf before the object is created\u001b[0m\u001b[0;34m\u001b[0m\u001b[0;34m\u001b[0m\u001b[0m\n\u001b[0m\u001b[1;32m      6\u001b[0m \u001b[0;34m\u001b[0m\u001b[0m\n\u001b[1;32m      7\u001b[0m \u001b[0m__init__\u001b[0m\u001b[0;34m(\u001b[0m\u001b[0;34m''\u001b[0m\u001b[0;34m)\u001b[0m    \u001b[0;31m# initializes the object after the object is created, in other words, 객체를 초기에 정의해주는 역할을 함 (return을 하면 오류가 떠야 정상)\u001b[0m\u001b[0;34m\u001b[0m\u001b[0;34m\u001b[0m\u001b[0m\n",
            "\u001b[0;31mNameError\u001b[0m: name '__new__' is not defined"
          ]
        }
      ]
    },
    {
      "cell_type": "code",
      "source": [
        "import inspect\n",
        "print(inspect.getsource())            #다른 사람이 만든 코드를 확인하는 방법"
      ],
      "metadata": {
        "colab": {
          "base_uri": "https://localhost:8080/",
          "height": 159
        },
        "collapsed": true,
        "id": "Zht_wEtGRyqk",
        "outputId": "46f7ac43-9848-4229-b81d-d65475d83328"
      },
      "execution_count": null,
      "outputs": [
        {
          "output_type": "error",
          "ename": "TypeError",
          "evalue": "getsource() missing 1 required positional argument: 'object'",
          "traceback": [
            "\u001b[0;31m---------------------------------------------------------------------------\u001b[0m",
            "\u001b[0;31mTypeError\u001b[0m                                 Traceback (most recent call last)",
            "\u001b[0;32m<ipython-input-2-c7f4974cf446>\u001b[0m in \u001b[0;36m<cell line: 0>\u001b[0;34m()\u001b[0m\n\u001b[1;32m      1\u001b[0m \u001b[0;32mimport\u001b[0m \u001b[0minspect\u001b[0m\u001b[0;34m\u001b[0m\u001b[0;34m\u001b[0m\u001b[0m\n\u001b[0;32m----> 2\u001b[0;31m \u001b[0mprint\u001b[0m\u001b[0;34m(\u001b[0m\u001b[0minspect\u001b[0m\u001b[0;34m.\u001b[0m\u001b[0mgetsource\u001b[0m\u001b[0;34m(\u001b[0m\u001b[0;34m)\u001b[0m\u001b[0;34m)\u001b[0m            \u001b[0;31m#다른 사람이 만든 코드를 확인하는 방법\u001b[0m\u001b[0;34m\u001b[0m\u001b[0;34m\u001b[0m\u001b[0m\n\u001b[0m",
            "\u001b[0;31mTypeError\u001b[0m: getsource() missing 1 required positional argument: 'object'"
          ]
        }
      ]
    },
    {
      "cell_type": "code",
      "source": [
        ".info                   #data type 뒤에 적음으로써 데이터에 대한 정보를 파악할 수 있음"
      ],
      "metadata": {
        "id": "GaPs3ON2M18y"
      },
      "execution_count": null,
      "outputs": []
    },
    {
      "cell_type": "code",
      "source": [
        ".describe()                                       # ()안에 아무것도 안넣으면, 기본적인 기초 통계 정보를 알려줌\n",
        ".describe(include=['option', 'option', ...])      # 특정 데이터를 알려달라고 지정해줄 수 있음"
      ],
      "metadata": {
        "id": "9MsTHS21OHc5"
      },
      "execution_count": null,
      "outputs": []
    },
    {
      "cell_type": "markdown",
      "source": [
        "# **마크다운 가이드라인**\n",
        "\n",
        "#### _마크다운(markdown) 이란?_\n",
        "* 문서화를 할 수 있는 문법이 바로 마크다운 임\n",
        "* 그 즉슨, 코드와 함께 `문서` 를 작성할 수 있다는 것(Like a document!)\n",
        "\\\n",
        "\\\n",
        "이렇게 줄바꿈을해서 강조하는 방법도 있음 (엔터키 위에 뒤집힌/)\n",
        "(참고로 이 'backtick(`)'는 영문 상태로 ₩키)\n",
        "\n",
        "#### _수정하고 실행시키는 빠른 방법은?_\n",
        "* shift+enter하면 셀이 실행되고 커서가 다음셀로 이동\n",
        "* enter키를 누르면 다시 편집상태\n",
        "* esc키를 누르고 (사실 안눌러도 실행되긴 함)\n",
        "    * a 키를 누르면 위에 셀이 추가\n",
        "    * b 키를 누르면 아래에 셀이 추가\n",
        "    * dd 키를 누르면 셀이 삭제\n",
        "    * m 키를 누르면 문서 셀로 변경\n",
        "    * y 키를 누르면 코드 셀로 변경\n",
        "\n",
        "#### _상단바 활용 방법_\n",
        "* `edit`에 undo, redo가 있음\n",
        "* 셀을 누른 상태에서 `view` 를 보면 show line number이 있어서 오류가 났을 시 어떤 줄에서 오류가 났는지 빠르게 파악 가능\n",
        "* `kernel`에는 restart and clear output이 있어서 모든 셀의 결과를 삭제하고 다시 처음부터 run 시킬 수 있는 상태로 만들어줌, 그리고 restart and run all cells를 하면 재시작시킬 수 있음"
      ],
      "metadata": {
        "id": "d6ZgBujqZFiq"
      }
    },
    {
      "cell_type": "markdown",
      "source": [
        "# **Assignment/Binding**\n",
        "* assignment는 **정의문**이다\n",
        "* `a = 1` 은 **assignment** 또는 **binding** 이라고 부름\n",
        "* 정의문은 함수정의, class 정의, expression정의로 나뉜다 -- 코딩에서 계속 사용되는 코드이기 때문에"
      ],
      "metadata": {
        "id": "SBRW1koKZewQ"
      }
    },
    {
      "cell_type": "markdown",
      "source": [
        "# **PEP Index(Index of Python Enhancement Proposals)**\n",
        "\n",
        "**파이썬에서 이름을 정하는 규칙**:\n",
        "1. snake: moon_beauty   _함수 이름은 snake 방식으로 encapsulate하는 게 실수를 줄이는 방법_ (snake방식은 그 자체로도 function이다)\n",
        "2. camel: moonBeauty\n",
        "3. pascal(caps word): MoonBeauty\n",
        "\n",
        "**PEP-8 방식**\n",
        "\n",
        ":파이썬에서 카멜 방식은 클래스 이름을 지을 때 사용한다.\n",
        "\n",
        ": 시간 단축과 명확성. 명명 방식만 봐도 속성을 알 수 있음\n",
        "\n",
        "(계속 식별자들을 사용하기 때문에 이름이 중요! 람다는 익명 함수로, 한 번만 사용하기에 이름 붙이지 않아도 됨)\n",
        "\n",
        ": always use `self` for the first argument to instance methods\n"
      ],
      "metadata": {
        "id": "kod_xnp_iKeW"
      }
    },
    {
      "cell_type": "markdown",
      "source": [
        "# **Dot Notation**\n",
        "\n",
        "```\n",
        "something.something\n",
        "```\n",
        "* a dot notation (aka object attribute access) is used to access attributes/variables or methods/functions inside of an object\n",
        "  * an **object** is basically a box that holds both data (like numbers or text) and actions (functions you can perform on that data)\n",
        "\n",
        "* 공백이나 특수문자 있는 애한테는 dot notation을 사용할 수 없음\n",
        "\n",
        "```\n",
        "user = session.query(User).filter_by(name=\"Alex\").first()\n",
        "print(user.email)\n",
        "\n",
        "1.\tsession.query(User) → Ask the database for all User records.\n",
        "2.\t.filter_by(name=\"Alex\") → Find the one with name = \"Alex\".\n",
        "3.\t.first() → Get the first matching record.\n",
        "4.\t.email → Show the email field from the record.\n",
        "```\n",
        "\n"
      ],
      "metadata": {
        "id": "affjWPqRDY-l"
      }
    },
    {
      "cell_type": "markdown",
      "source": [
        "# **Expressions**\n",
        "\n",
        "[파이썬 공식 문서](https://docs.python.org/ko/3.9/)를 기반으로 함.\n",
        "\n",
        "파이썬에서는 variance(변수)가 아닌, identifier(식별자)라고 말한다. 파이썬에서는 계속 이름을 다르게 붙일 수 있기 때문에 상수가 따로 존재하지 않는다(const, final 등).\n",
        "\n",
        "**Expression(표현식)**은  **하나의 결과'값'**으로 축약하는 아이\n",
        "\n",
        "등호의 오른쪽에는 식이 올 수 있으며, Lambda(함수식)은 식이므로 등호의 오른쪽에 올 수 있다. 클래스도 가능."
      ],
      "metadata": {
        "id": "rQ6cqF_KggkJ"
      }
    },
    {
      "cell_type": "markdown",
      "source": [
        "## **변수**\n",
        "* 파이썬에서는 '변수'라는 말을 사용하지 않는다 (변수의 반댓말은 한번 설정하면 고정되어버리는 상수이기 때문인데, 파이썬에는 '상수'라는 것이 없다)\n",
        "* 파이썬에서는 a 와 같은 말을 '식별자' 또는 'identifier' 이라고 부른다\n",
        "\n",
        "* = 는 대입 연산자이다 (=의 왼쪽에는 **식별자**, 오른쪽에는 **식/expression/결괏값**이 온다)\n",
        "* 람다 또한 함수식이다 - 그 즉슨, 대입 연산자 뒤에 올 수 있다는 것이다"
      ],
      "metadata": {
        "id": "vtaZPCkBZL1R"
      }
    },
    {
      "cell_type": "markdown",
      "source": [
        "## **Parameter**\n",
        "**파라미터 특징**\n",
        "* a special kind of variable used in a function to refer to one of the pieces of data provided as input to the function\n",
        "* 파이썬 교재에서는 보통 파라미터(매개변수) 를 5개로 분류하나, 실질적으로는 7개 정도로 분류될 수 있음\n",
        "* 이름과 파라미터를 구분하는 방식을 `signature`이라고 함\n",
        "\n",
        "**파라미터 정의하는 방식**\n",
        "\n",
        "1) **positional** 방식 : def할 때 ()안에 순서대로 숫자를 그냥 넣어서 순서에 맞게 배정 _ex. def sun(x,y) print(x+y) 하고 sun(2,4) 를 주는 것_\n",
        "\n",
        "2) **keyword** 방식으로 배정  : def할 때 ()안에 순서와 무관하게 x의 값, y의 값을 각각 정의해줘버리는 것 _ex. sun(y=3,x=8)_\n",
        "\n",
        "3) **positional only`/`** 방식 : /의 앞에는 무조건 positional 을 써야하는 방식\n",
        "\n",
        "4) **별표 1개 방식(*)** :\n",
        "   \n",
        "    ➀ positional 방식으로 집어넣어야함 (뒤에는 다 키워드 방식으로 적어야함)\n",
        "\n",
        "    ➁ argument나 dictionary 에 *를 써주면 그 argument를 `unpacking`해주기도 함 (예컨대, argument로 튜플이나 리스트를 넣었다고 생각해봤을 때\n",
        "     그 앞에 *을 붙혀주면 ( )나[ ]가 벗겨져서 출력)\n",
        "\n",
        "5) **별표 2개 방식** : keyword 방식으로 집어넣어야함"
      ],
      "metadata": {
        "id": "MvYLnaYVxphe"
      }
    },
    {
      "cell_type": "markdown",
      "source": [
        "## **숫자**\n",
        "\n",
        "##### **파이썬의 숫자 체계**\n",
        "\n",
        "파이썬의 숫자 종류는 4개다.\n",
        "- **integer(정수형)**\n",
        "- **float(부동소수점)** : 파이썬에서는 부동소수점을 근사적으로 계산한다. **대충 계산하기 때문에 빠르**지만 정확한 값을 계산하지 않기 때문에 주의해야 한다! 그렇게 때문에 numpy 라이브러리를 이용해 연산을 진행한다.\n",
        "- **complex(복소수)**\n",
        "- **bool(불린)** : 대부분의 상황에서 각기 0과 1처럼 동작함. 명확성을 주기 위해서 True와 False를 키워드로 둘 뿐 _실질적으로 참과 거짓은 파이썬에 존재하지 않고 **존재론적인 의미**로 쓰일 뿐_\n",
        "\n",
        "##### **파이썬 숫자 특징**\n",
        "* 숫자는 **원자성(atomic)**이다\n",
        "* atomic 의 반댓말은 **container**이다\n",
        "* 숫자는 원자성을 가지기 때문에 _1000_와 같은 숫자를 1과 0으로 **쪼갤 수 없다**\n",
        "* 하지만 숫자사이에 _를 넣을 수는 있다!\n",
        "(숫자 안에 언더바를 넣더라도 run 시키면 언더바가 빠진 상태로 출력이 됨- 언더바를 사용하는 유일한 이유는 가독성을 위해서!)"
      ],
      "metadata": {
        "id": "kshcI-M5peHy"
      }
    },
    {
      "cell_type": "markdown",
      "source": [
        "## **Container**\n",
        "* `container` 은 '쪼갤 수 있는 애들'을 의미하며 atomic의 반댓말이다\n",
        "* `container` 는 3가지의 유형으로 나뉠 수 있다\n",
        "    * **homogeneous data types** vs **heterogenous**: 같은 데이터 타입 like arrays or 다른 데이터 타입\n",
        "    * **sequence data type** vs **non-sequence data type** : slicing, indexing 할 수 있는지 없는지\n",
        "      * 데이터를 만들땐 확인 가능한 sequencial 한 데이터로 만들어주는 것이 좋음 (sequencial data는 pytorch에 돌릴 수 있기 때문!)\n",
        "      * `__getitem__` /  `__len__` 을 가지고 있으면 'sequence data'로 볼 수 있음\n",
        "      * duck typing으로 `__getitem__` /  `__len__`구현시켜주기만 하면 sequence data로써 사용할 수 있음\n",
        "      * 혹은 상속을 통해 새로 구현시켜주지 않아도 `__getitem__` /  `__len__` 을 받아와도 됨!\n",
        "\n",
        "        (단, 부모의 기능이 바뀌어버리면 처음부터 다 고쳐야된다는 단점은 있음)\n",
        "      *\n",
        "    * **mutable** vs **immutable** : whether the data types can be changed after creation (immutable이 기본형임)\n",
        "\n",
        "\n",
        "* `container`의 대표적인 예시\n",
        "  * list\n",
        "  * set\n",
        "  * dictionary\n",
        "  * tuple\n",
        "  * string"
      ],
      "metadata": {
        "id": "QzwIfCTurbWR"
      }
    },
    {
      "cell_type": "markdown",
      "source": [
        "## **연산**\n",
        "\n",
        "**연산 특징**\n",
        "* 데이터 타입에 따라 지원되는 연산자가 각각 있다\n",
        "* 파이썬은 '대충 연산을 하는 아이'이지, 정확하게 수치를 연산해주는 아이가 아니다\n",
        "* 그래서 numpy와 같은 라이브러리를 가지고 와야한다\n",
        "* 같은 데이터 타입끼리는 연산할 수 있으나, 다른 데이터 타입끼리는 연산이 되지 않는다\n",
        "\n",
        "단, `coercion`을 통해서 같은 형의 두 인자를 수반하는 연산이 일어나는 동안, 한 형의 인스턴트를 다른 형으로 묵시적으로 변환해서 int 를 float 으로 자동으로 코어션을 제공해주는 경우도 종종있다\n",
        "\n",
        "\n",
        "**`*` 의 역할**\n",
        "  * 반복\n",
        "  * 곱셈 (integer, float, string 모두 곱셈해줌)\n",
        "  * `**` 을 하면 지수 곱셈\n",
        "  * unpacking\n",
        "  * 나머지을 사용해서 반복을 시킬 수도 있음\n",
        "\n",
        "\n",
        "**`비교연산자`**\n",
        "  * < 나 >와 같은 부등호는 항상 불린으로 결과가 나온다\n",
        "  * container 끼리도 비교가 가능한데, 첫번째 항끼리 비교하고 두번째 항끼리 비교하는 방식으로 비교가 된다\n",
        "\n",
        "\n",
        "**`and`**\n",
        "* 앞이 true면 the latter을 받아냄 (출력)\n",
        "* 앞이 false면 the former을 받아냄 (출력)\n",
        "\n",
        "**`or`**\n",
        "* 앞이 true면 the former을 받아냄 (출력)\n",
        "* 앞이 false면 the latter을 받아냄 (출력)\n",
        "\n",
        "**`in`**\n",
        "* for 문을 사용할 때 자주 봤던 애\n",
        "* not in 을 사용해서 컨테이너 안에 있는지 없는지 확인 가능\n",
        "* true false를 체크할 때 뒤에 컨테이너가 와야함"
      ],
      "metadata": {
        "id": "qhYx0SDQZulS"
      }
    },
    {
      "cell_type": "markdown",
      "source": [
        "### **연산자 오버로딩 (operator overloading)**\n",
        "* 연산자의 기능을 바꿔주는 것\n",
        "* `__getitem__`으로 기능을 바꿔줄 수 있음\n",
        "  ```\n",
        "  #원래는\n",
        "  class A:\n",
        "  pass\n",
        "\n",
        "  a = A()\n",
        "\n",
        "  a[0]\n",
        "  \n",
        "  #오류가 뜨지만\n",
        "  ```\n",
        "\n",
        "  ```\n",
        "  class A:\n",
        "  def __getitem__(self,x):      #__getitem__을 해주면\n",
        "    print('x')\n",
        "\n",
        "  a = A()\n",
        "\n",
        "  a[0]   \n",
        "\n",
        "  #OUT\n",
        "  x                             #출력값에 오류가 더 이상 안뜸(기능이 바뀌었기 때문에 인덱싱이 가능해짐)\n",
        "  ```"
      ],
      "metadata": {
        "id": "C_p3LgPsNfgD"
      }
    },
    {
      "cell_type": "markdown",
      "source": [
        "## **함수**\n",
        "* 함수는 같은 것을 반복할 때 유용한 묶음채 (여러 개의 코드를 묶어서 실행해주는 역할)\n",
        "* 함수는 입력값이 주어지면 기본적으로 `return`값이 있다\n",
        "* 함수(Function) 의 종류\n",
        "  * 이름 붙이는 함수\n",
        "  * 이름 없는 **Lambda** 함수 (함수-함수의 연산으로 수학처럼 추상화한 체계)\n",
        "\n",
        "* `def` : definition, 뒤에는 **이름**이 와야함 (계속 반복해서 사용하기 위해서)\n",
        "* `for`  \n",
        "* `del`"
      ],
      "metadata": {
        "id": "c1OHh0oexJ5A"
      }
    },
    {
      "cell_type": "markdown",
      "source": [
        "## **mutable**\n",
        "* 값을 바꾸기 위해서는 재할당이라는 것을 했음\n",
        "* mutable 데이터의 경우, 바뀐 값이 반영되면서도 본래 메모리에 저장이 되어서 재할당을 따로 안해도 메모리를 공유함\n",
        "* mutable의 3가지 유형\n",
        "    * return 없이 자기 자신은 변화하는 경우\n",
        "    * return도 주고, 자기 자신도 변화하는 경우\n",
        "    * return값은 있으나 자기 자신은 변화하지 않는 경우\n",
        "\n",
        "* mutable **vs** immutable\n",
        "     * list      ↔     tuple\n",
        "     * set       ↔    frozenset\n",
        "     * dictionary"
      ],
      "metadata": {
        "id": "MfD9HAVyyzEe"
      }
    },
    {
      "cell_type": "markdown",
      "source": [
        "## **len**\n",
        "* `len` is a built-in Python function that returns the length (number of items) of an object. It can be used with different types of sequences like strings, lists, dictionaries, and tuples\n",
        "* 데이터 타입에 따라서 다르게 처리됨\n",
        "  ```\n",
        "  #IN\n",
        "  len([1,2,3])\n",
        "  #OUT\n",
        "  3\n",
        "  ```\n",
        "  ```\n",
        "  #IN\n",
        "  len({'a':1, 'b':2, 'c':3})  \n",
        "  #OUT\n",
        "  3\n",
        "  ```"
      ],
      "metadata": {
        "id": "NzXYlNyxp3Ix"
      }
    },
    {
      "cell_type": "markdown",
      "source": [
        "## **literal**\n",
        "* a `literal` 은 데이터값을 정해주는 **단축 표현**이다\n",
        "* is basically a fixed value that you type directly in your code\n",
        "* so it's literally writing the exact thing you want instead of calculating or naming it\n",
        "* 특수기호의 여부에 따라 간단하게 사용할 수 있다\n",
        "* `a = int(1)`    is making `a` an _instance_\n",
        "\n",
        "  `a = 1` is a literal, directly fixing a value into the code\n",
        "  \n",
        "   but 보통 고급 프로그래밍일수록 보다 복잡한 것을 추구하는 경향이 있어 리터럴의 사용을 지양함"
      ],
      "metadata": {
        "id": "3lQeTnFCrMn3"
      }
    },
    {
      "cell_type": "markdown",
      "source": [
        "## **list**\n",
        "* a list is a collection of elements that hold a variety of data types\n",
        "*characteristics\n",
        "    * is _hetrogeneous_ : can store different data types\n",
        "    * is _seqeunced_ : a tuple is ordered, so it's position of items matter\n",
        "    * is _mutable_ : elements can be modified after creation\n",
        "* 단, 리스트 자체를 하나로 보고 homogenous 하다고 볼 수도 있음\n",
        "\n",
        "  예컨대,\n",
        "\n",
        "  ```\n",
        "  [(1,2,3,'4',5)]\n",
        "  [(6,7,8,'9',10)]\n",
        "  # 둘이 같은 structured array로 보면 호모임\n",
        "  ```\n",
        "  ```\n",
        "  x = np.array([('Rex', 9, 81.0), ('Fido', 3, 27.0)],\n",
        "              dtype=[('name'),('age'),('weight')])\n",
        "\n",
        "  # ( ) 둘을 같은 structured array로 보고 아예 x의 element로 만들어서, 각 순서에 맞게 element를 categorize/designate and even make into a table할 수 있음\n",
        "  # x[0] = ('Rex', 9, 81.0) 로 출력 받을 수 있게 되는 것임\n",
        "  ```\n",
        "\n",
        "*\n",
        "\n",
        "  ```\n",
        "  a = [1,2,3]       #creating a list\n",
        "\n",
        "  #IN\n",
        "  print(a[0])\n",
        "  #OUT\n",
        "  1\n",
        "\n",
        "  #IN\n",
        "  a.append(4)\n",
        "  print(a)\n",
        "  #OUT\n",
        "  [1,2,3,4]\n",
        "  ```\n",
        "\n"
      ],
      "metadata": {
        "id": "-P2WrldGSyfu"
      }
    },
    {
      "cell_type": "markdown",
      "source": [
        "## **set**\n",
        "* a set is an unordered collection of elements\n",
        "* 중복 없는 data set\n",
        "*characteristics\n",
        "    * is _hetrogeneous_ : can store different data types\n",
        "    * is _non seqeunced_ : sets are unordered, which means that the order of elements are not maintained, disabling indexing or slicing\n",
        "    * is _mutable_ : elements can be modified after creation\n",
        "\n",
        "*\n",
        "\n",
        "  ```\n",
        "  s = {1,2,3}       #creating a set\n",
        "\n",
        "  #IN\n",
        "  print(s[0])\n",
        "  #OUT\n",
        "  ERROR             #indexing 불가\n",
        "\n",
        "  #IN\n",
        "  s.add(4)          #set는 append X add O\n",
        "  print(s)\n",
        "  #OUT\n",
        "  {1,2,3,4}\n",
        "\n",
        "  #IN\n",
        "  s.remove(3)\n",
        "  print(s)\n",
        "  #OUT\n",
        "  {1,2,4}\n",
        "  ```"
      ],
      "metadata": {
        "id": "slvSjtCJUHAn"
      }
    },
    {
      "cell_type": "markdown",
      "source": [
        "## **tuple**\n",
        "* tuple is a box that holds a _fixed_ group of multiple items\n",
        "* the order matters in a tuple _(whereas a **set** variables are put in an unorderly fashion)\n",
        "* you can't change what's inside a tuple once it's defined\n",
        "*characteristics\n",
        "    * is _homogeneous_ : it holds all the same data type datas\n",
        "    * is _seqeunced_ : a tuple is ordered, so it's position of items matter\n",
        "    * is _immutable_ : once you create a tuple, you cannot change, add, or delete its items\n",
        "* when you use a 연산자 to define a certain identifier, it unpacks the expression\n",
        "\\\n",
        "    for example,\n",
        "    a,b,c = (1,2,3) 이라고 할 경우 a,b,c에 1,2,3이 언패킹되는 것\n",
        "\n",
        "\n",
        "*\n",
        "\n",
        "  ```\n",
        "  t = (1,2,3)       #creating a tuple\n",
        "\n",
        "  #IN\n",
        "  print(t[0])\n",
        "  #OUT\n",
        "  1   \n",
        "\n",
        "  #IN\n",
        "  t.add(4)\n",
        "  OR t.append      #tuple은 immutable\n",
        "  print(t)\n",
        "  #OUT\n",
        "  ERROR\n",
        "\n",
        "  ```"
      ],
      "metadata": {
        "id": "vbrwoioiacv_"
      }
    },
    {
      "cell_type": "markdown",
      "source": [
        "## **dictionary**\n",
        "* 딕셔너리란 key 와 value의 쌍을 맵핑 (mapping)하여 저장하는 자료구조\n",
        "* {} 공집합 또한 딕셔너리임"
      ],
      "metadata": {
        "id": "lKRuLHszs0l5"
      }
    },
    {
      "cell_type": "markdown",
      "source": [
        "# **단순문 (Simple Statements)**\n",
        "* simple statement : 13개가 있으며, `:`이 한개 이하로 하나의 논리적인 줄 안에 있는 완결된다\n",
        "* 종류\n",
        "  * 표현식문\n",
        "    * **None**\n",
        "    * true/false 는 실질적으로 참과 거짓의 의미가 아니며, 심지어는 파이썬에 존재하지 **않는다**\n",
        "    * 파이썬에서의 참과 거짓은 **존재론적인 의미**로 쓰일 뿐\n",
        "    * none ≠ false\n",
        "    * none = 아직 **존재하지 않는다**는 뜻\n",
        "  * 대입문\n",
        "  * assert문\n",
        "  * pass문\n",
        "  * del문\n",
        "  * return문\n",
        "  * yield문\n",
        "  * raise문\n",
        "  * break문\n",
        "  * continue문\n",
        "  * import문\n",
        "  * global문\n",
        "  * nonlocal문\n"
      ],
      "metadata": {
        "id": "y-8l58gNvozE"
      }
    },
    {
      "cell_type": "markdown",
      "source": [
        "# **복합문(Compound Statements)**\n",
        "* 복합문은 8개가 있음\n",
        "* `:`이 있으면 (if,while 등 뒤에 오는 : 처럼) 복합문이라고 생각하면 됨\n",
        "* 복합문 중 가장 대표적인 **조건식** 도 결국 **식** 이기 때문에, = 오른쪽에 올 수 있음! (=오른쪽에는 expression/식이 올 수 있다!)\n",
        "* 파이썬의 철학은 \"일단은 저질러 봐! 오류가 생겼을 때, 그때 수정하면 돼!\" -> 이러한 철학이 있기 때문에 **예외처리**가 아주 중요함 (시간 단축도 뛰어남)\n",
        "* 파이썬에 코드를 아주 많이 돌렸을 때 사실 중단 없이 그냥 쭉 돌아가는 경우가 있는데, `assert` 를 코드 중간 중간에 계속 집어넣으면 문제가 생겼을 때 오류를 집어내줌\n",
        "\n",
        "\n",
        "### **`for`**\n",
        "* while보다 훨씬 코드 저장에 용이하고 효율적임\n",
        "* low level 까지 만들 수 있음\n",
        "\n",
        "같이 사용할 수 있는 아이들\n",
        "* `continue`\n",
        "* `break`\n",
        "\n",
        "\n",
        "### **`while`**\n",
        "* 무한 루프 쓸 때만 예외적으로 사용하고 보통은 for사용을 추천"
      ],
      "metadata": {
        "id": "w1McvV0mtPO4"
      }
    },
    {
      "cell_type": "markdown",
      "source": [
        "# **LEGB Technique**\n",
        "\n",
        "`Local` `Enclosing` `Global` `Builtin`\n",
        "* local → enclosing → global → builtin 순으로 읽음('위임'하는 개념)\n",
        "* 즉, local 이 있을 경우 enclosing까지 가지 않고, enclosing 이 있으면 global까지 가지 않고 바로 값을 읽어낸다\n",
        "\n",
        "\n",
        "\n",
        "\n",
        "```\n",
        "bb = 1             #global\n",
        "def a():\n",
        "  bb = 2           #enclosing\n",
        "  def b():\n",
        "    bb = 3         #local\n",
        "    return bb\n",
        "  return b\n",
        "```\n",
        "\n",
        "`non local`\n",
        "* refers to a variable defined in the nearest enclosing (non-global) scope. This means it is neither local to the current function nor global, but exists in an outer enclosing function.\n",
        "\n"
      ],
      "metadata": {
        "id": "GyZhZbBg0wd7"
      }
    },
    {
      "cell_type": "markdown",
      "source": [
        "# **Imperative Programming(명령형 프로그래밍)**\n",
        "\n",
        "* imperative\n",
        "\n",
        "  : how to do things\n",
        "\n",
        "  : comes from the latin word _impero_ meaning \"I command\"\n",
        "  \n",
        "  like how an emperor would give a computer orders for it to complete tasks one at a time and to report the process back\n",
        "*order of the steps is crucial\n",
        "\n",
        "* uses _**statements**_ that change the program state by _defining variables_ and _changing the values_ of the variables\n",
        "* don't necessarily need any inputs or outputs, and can simply call other functions or create statements that tell the computer how to do its thing"
      ],
      "metadata": {
        "id": "uTK9FrJAvUpk"
      }
    },
    {
      "cell_type": "markdown",
      "source": [
        "## **Object Oriented Programming(객체지향 패러다임)**\n",
        "\n",
        "* 프로그램을 작성할 대상이 되는 실제 세계의 사물(객체)을 그대로 표현하고, 그것들이 어떻게 움직이는지 정해주고 나서야 비로소 그 객체들에게 일을 시킴\n",
        "*\n",
        "  ```\n",
        "  객체지향(Object-Oriented) 방식은 우리가 현실 세계를 바라보는 방식과 비슷해!\n",
        "\n",
        "  1. 현실 세계에서의 비유\n",
        "\n",
        "  예를 들어, 우리가 “자동차”를 생각해보자.\n",
        "  자동차는 여러 가지 부품(바퀴, 엔진, 핸들 등)으로 이루어져 있지만, 우리는 그냥 “자동차”라는 하나의 개념으로 본다.\n",
        "    •\t자동차마다 **다른 모델과 색상(속성, 데이터)**을 가질 수 있고,\n",
        "    •\t자동차는 달릴 수도 있고(동작, 기능), 멈출 수도 있고(메서드),\n",
        "    •\t자동차 공장에서 새로운 자동차를 만들 수도 있어(클래스와 객체).\n",
        "\n",
        "  이렇게 현실에서 하나의 개념을 **속성과 기능을 가진 독립적인 객체(개체)**로 보는 방식이 객체지향의 기본 원리야.\n",
        "\n",
        "  2. 객체지향 프로그래밍의 핵심 개념\n",
        "\n",
        "  객체지향은 크게 클래스와 객체라는 개념으로 이루어져 있어.\n",
        "\n",
        "  ① 클래스(Class) - 설계도\n",
        "\n",
        "  클래스는 **“설계도”**라고 생각하면 돼. 자동차 공장에서 “자동차 설계도”를 만들어 놓으면 그걸 기반으로 여러 개의 자동차를 만들 수 있듯이,\n",
        "  클래스는 객체를 만들기 위한 청사진이야.\n",
        "\n",
        "  class Car:\n",
        "      def __init__(self, color, model):\n",
        "          self.color = color  # 자동차 색상 (속성)\n",
        "          self.model = model  # 자동차 모델 (속성)\n",
        "\n",
        "      def drive(self):  # 자동차의 동작 (메서드)\n",
        "          print(f\"{self.color} {self.model}이(가) 주행 중입니다!\")\n",
        "\n",
        "  ② 객체(Object) - 실체(인스턴스)\n",
        "\n",
        "  객체는 **클래스를 기반으로 만들어진 실체(Instance)**야.\n",
        "  즉, 클래스로부터 만들어진 진짜 자동차라고 보면 돼!\n",
        "\n",
        "  my_car = Car(\"빨간색\", \"BMW\")  # 클래스(설계도)로부터 객체(자동차) 생성\n",
        "  your_car = Car(\"파란색\", \"Tesla\")\n",
        "\n",
        "  my_car.drive()   # 출력: 빨간색 BMW이(가) 주행 중입니다!\n",
        "  your_car.drive() # 출력: 파란색 Tesla이(가) 주행 중입니다!\n",
        "\n",
        "  3. 객체지향의 핵심 원칙 (4가지)\n",
        "    1.\t캡슐화(Encapsulation)\n",
        "      •\t객체 내부의 데이터를 보호하고, 외부에서 함부로 접근하지 못하게 하는 것.\n",
        "      •\t예: 자동차의 엔진 내부를 직접 조작할 수 없고, 버튼(인터페이스)만 조작하는 것과 비슷!\n",
        "    2.\t상속(Inheritance)\n",
        "      •\t기존 클래스를 확장하여 새로운 클래스를 만드는 개념.\n",
        "      •\t예: “자동차” 클래스를 기반으로 “전기차” 클래스를 만들 때, 기존 자동차 기능을 그대로 물려받고 전기 충전 기능을 추가할 수 있어!\n",
        "    3.\t다형성(Polymorphism)\n",
        "      •\t같은 기능을 가지고 있지만, 객체마다 다르게 동작할 수 있는 능력.\n",
        "      •\t예: 같은 drive() 기능이 있어도, BMW는 “부릉부릉” 소리를 내고, Tesla는 “조용히” 주행할 수 있어.\n",
        "    4.\t추상화(Abstraction)\n",
        "      •\t불필요한 세부사항을 감추고, 중요한 기능만 보여주는 것.\n",
        "      •\t예: 운전자는 엔진의 내부 구조를 몰라도, “가속 페달”을 밟으면 차가 앞으로 가는 것처럼!\n",
        "\n",
        "  4. 왜 객체지향이 좋을까?\n",
        "\n",
        "  ✅ 현실 세계와 비슷한 방식으로 코드를 설계할 수 있어서 직관적이야.\n",
        "  ✅ 코드의 재사용성이 높아져서 효율적인 개발이 가능해.\n",
        "  ✅ 유지보수와 확장성이 좋아서 변경이 쉬워!\n",
        "\n",
        "  결국, 객체지향 프로그래밍(OOP)은 현실을 더 쉽게 코드로 표현할 수 있도록 도와주는 강력한 개념이야! 🚀\n",
        "  ```\n",
        "* design first → then code\n",
        "* promotes the reuse of code(한번 만들어둔걸 계속해서 가져다 쓰기 편하다는 장점이 있음)\n",
        "* easy to maintain • modify • add as the step process has been defined first\n",
        "* 어떤 시점에, 어떤 기능을 넣어줘야하는지를 명확하게 해줌\n",
        "\n",
        "\n",
        "\n",
        "  ```\n",
        "  class Singer:                      # 가수를 정의하겠느니라…\n",
        "      def sing(self):                # 노래하기 메서드\n",
        "            return \"Lalala~\"\n",
        "    \n",
        "  taeji = Singer()                   # 태지를 만들어랏!\n",
        "  taeji.sing()                       # 노래 한 곡 부탁해요~\n",
        "  'Lalala~'\n",
        "  ```\n"
      ],
      "metadata": {
        "id": "CM9CldhO3Pyf"
      }
    },
    {
      "cell_type": "markdown",
      "source": [
        "### **Class**\n",
        "* 주로 _틀_로 비유되며, 똑같은 무언가를 계속 만들어내는, 비슷한 것들끼리 묶어주는 '부류'로 정의됨\n",
        "* to construct objects from predefined specifications(like forms or templates), containing _initialized data, placeholders for data, methods for accessing and manipulating data, etc_\n",
        "\n",
        "*\n",
        "\n",
        "  ```\n",
        "  #IN\n",
        "  class car:                      # class 정의\n",
        "    def on(self):\n",
        "      print(\"차량의 시동을 켭니다.\")   # method 정의\n",
        "\n",
        "  tesla = car()                   # car()이라는 클래스에 tesla라는 instance정의\n",
        "  tesla.on()                      # 객체 tesla는 클래스의 메서드를 사용할 수 있음\n",
        "\n",
        "  #OUT\n",
        "  차량의 시동을 켭니다.\n",
        "\n",
        "  ```\n",
        "\n"
      ],
      "metadata": {
        "id": "vpJCKvER4trd"
      }
    },
    {
      "cell_type": "markdown",
      "source": [
        "### **Instance**\n",
        "* 클래스 안에 있는 애 / 클래스에 의해 만들어진 객체\n",
        "* ex) class: 붕어빵틀 - instance: 붕어빵\n",
        "* ex) class: 와플틀 - instance: 와플\n",
        "* instance끼리는 서로 다르고, 서로 다른 instance 변수를 가질 수 있음\n",
        "* `vars` 를 통해서 인스턴스 attribute를 모두 확인할 수 있음"
      ],
      "metadata": {
        "id": "tzt_ibkCPLE4"
      }
    },
    {
      "cell_type": "markdown",
      "source": [
        "### **종류 및 특징**\n",
        "\n",
        "* **객체지향 종류 4가지**\n",
        "\n",
        "* **객체지향 특징**\n",
        "  * _**polymorphism 다형성**_\n",
        "    * 여러가지의 형태 및 작동을 실행하기 위해 타입에 따라 결과값을 파이썬한테 다르게 전달해서 각각 다르게 처리(각각 다른 곳으로 넘겨줌)\n",
        "    * simply put, polymorphism means that you can assign multiple types to one object\n"
      ],
      "metadata": {
        "id": "c6PJqLDzR26b"
      }
    },
    {
      "cell_type": "markdown",
      "source": [
        "### **Generic 함수**\n",
        "* 데이터값과 무관하게 모두 다 처리해주는 함수\n",
        "* allows you to write functions and classes that can work with any data type"
      ],
      "metadata": {
        "id": "wtomaTIGIh40"
      }
    },
    {
      "cell_type": "markdown",
      "source": [
        "### **Encapsulation**\n",
        "* the same thing as **information hiding**\n",
        "* usually creates a function name and designating it to often used for lengthy codes to avoid mistakes"
      ],
      "metadata": {
        "id": "MpA5F2ZAcYn9"
      }
    },
    {
      "cell_type": "markdown",
      "source": [
        "### **Composition Technique**\n",
        "* 남의 클래스의 인스턴스를 내 클래스의 인스턴스 변수(내 클래스의 인스턴스화)로 사용하는 기법 (_**합성함수**_ 처럼)\n",
        "* 프로그램을 분리시켜서 여러 개의 일을 한꺼번에 명령 시킬 수 있어서 사용함\n",
        "* composition을 **상속** 대신 사용할 수 있음\n",
        "\n",
        "  ```\n",
        "  class A:\n",
        "  x = 1\n",
        "  def y(self):\n",
        "    print('y')\n",
        "  ```\n",
        "  ```\n",
        "  class B:\n",
        "  def __init__(self):\n",
        "    self.a = A()       #class A의 instance a를 내 class B의 instance 변수마냥 가져와서 함께 작동시키는 것\n",
        "  ```\n",
        "\n"
      ],
      "metadata": {
        "id": "usVByMlmjpoE"
      }
    },
    {
      "cell_type": "markdown",
      "source": [
        "## **Procedural Programming(절차적 프로그래밍)**\n",
        "* allows us to split the instructions we give to a computer into procedures\n",
        "* ex)`for`loop"
      ],
      "metadata": {
        "id": "7yvlfNOOyX4m"
      }
    },
    {
      "cell_type": "markdown",
      "source": [
        "## **Parallel Processing Programming**\n",
        "* dividing the processing of a program among multiple processors\n",
        "* allows many processors to run a program in less time by dividing them up"
      ],
      "metadata": {
        "id": "slt0HL-cytAv"
      }
    },
    {
      "cell_type": "markdown",
      "source": [
        "# **Declarative Programming(선언형 프로그래밍)**\n",
        "* the developer defines _**what**_ needs to be accomplished w/o defining _how_ it needs to be implemented\n",
        "* focuses on _**what**_ needs to be achieved and what we want to get from the computer instead of instructing _how_ to achieve it\n",
        "* based on _**expressions**_ that evaluate their result based on input,\n",
        "\n",
        "  in other words, expressions fous on taking input and providing output relying on _**only the input itself**_"
      ],
      "metadata": {
        "id": "ZV-XLRGcvQF5"
      }
    },
    {
      "cell_type": "markdown",
      "source": [
        "## **Functional Programming/함수형 패러다임**\n",
        "\n",
        "* https://docs.python.org/3/howto/functional.html#functional-howto\n",
        "* **수학 기반 함수**\n",
        "* has roots in mathematics and is language independent, its key principle is in executing a series of mathematical functions throughout the computation process. This means that functions can be assigned to variables, passed as arguments, and returned as results\n",
        "* Functional programming is a unique approach to coding that emphasizes using functions and immutable data to write cleaner, more predictable code\n",
        "* 어떤 문제를 잘게 쪼개서  **합성함수(compositional function)**로 원하는 결과를 도출할 수 있겠금 만드는 것임\n",
        "* 함수형 프로그래밍의 기본 기능은 _여러 함수를 한번에 묶어서 처리_ 하는 기능이고, 함수를 각각 한개씩 꺼내서 처리하는 방식을 사용함 (lisp의 구조)\n",
        "* 무조건 input이 있어야 수학함수라고 할 수 있음\n",
        "* 프로그래밍으로써 결과를 수학적으로 예측할 수 있어야 함 ( _증명_ 이 가능해야)\n",
        "* 함수 기반의 프로그래밍의 장점 (합성함수로 프로그래밍이 가능하기 때문에 이러한 장점을 가짐)\n",
        "  * 형식적 증명 가능성\n",
        "  * 모듈성\n",
        "  * 결합성\n",
        "  * 디버깅과 테스트의 용이성"
      ],
      "metadata": {
        "id": "mPdqqN124FVF"
      }
    },
    {
      "cell_type": "markdown",
      "source": [
        "### **First Class Function**\n",
        "* Programming 세상에서는 **function을 first class** 로 만듦\n",
        "That is, everything you can do\n",
        "with “data” can be done with functions themselves (such as passing a function to another function).\n",
        "* 함수 자체가 값(value)\n",
        "\n",
        "  **Value = type + data**\n",
        "\n",
        "\n",
        "\n",
        "\n",
        "\n",
        "\n",
        "\n",
        "\n"
      ],
      "metadata": {
        "id": "N8VQf6-pcCn-"
      }
    },
    {
      "cell_type": "markdown",
      "source": [
        "### **Higher-Order Function** (고차함수)\n",
        "* 함수를 인자로 받고 return할 수 있는 함수 (합성함수랑 비슷)\n",
        "\n",
        "* ```\n",
        "  def x():\n",
        "    def y():\n",
        "      return 1\n",
        "    return y\n",
        "  ```\n",
        "  했을  때\n",
        "\n",
        "  ```\n",
        "  x()()    \n",
        "  ```\n",
        "\n",
        "  ```\n",
        "  1       #➀def x() ➁return y ➂def y() ➃return 1\n",
        "  ```\n",
        "\n"
      ],
      "metadata": {
        "id": "sa5_e-gjed5S"
      }
    },
    {
      "cell_type": "markdown",
      "source": [
        "### **Callable**\n",
        "* 함수처럼 호출 가능한 객체\n",
        "* `__call__` 만 있다면 함수처럼 사용할 수 있음\n",
        "* `x()`의 경우, `x`는 호출 가능한 객체이고 `()`는 **실행 연산자**임\n",
        "* Python에서 `callable(x)`으로 호출 가능 여부를 확인할 수 있음\n",
        "\n",
        "---\n",
        "\n",
        "\n",
        "##### **`( )`의 사용 목적**\n",
        "* 재사용을 위해 정의한 코드 실행 (함수 호출)  \n",
        "* 객체 생성 (클래스 인스턴스화)  \n",
        "* 값 변환 (형변환 함수)  \n",
        "\n",
        "\n",
        "\n",
        "\n",
        "\n"
      ],
      "metadata": {
        "id": "iBc7gXi3fHKo"
      }
    },
    {
      "cell_type": "markdown",
      "source": [
        "---\n",
        "\n",
        "#### **함수** 와 **클래스**\n",
        "\n",
        "##### **`( )`를 붙일 수 있는 객체의 종류** :\n",
        "\n",
        "\n",
        "\n",
        "\n",
        "\n"
      ],
      "metadata": {
        "id": "0JtOv9Hs63jp"
      }
    },
    {
      "cell_type": "markdown",
      "source": [
        "###### **1) `__call__` 이나 `__class__`가 정의되어있는 경우**\n",
        "* `__call__` 이나 `__class__` 만 있다면 함수처럼 사용할 수 있음\n",
        "* ()뿐만 아니라 ()()를 붙힐 수 있게 됨"
      ],
      "metadata": {
        "id": "iV7zOB_Vo3S-"
      }
    },
    {
      "cell_type": "markdown",
      "source": [
        "##### 2) **함수(Function)**\n",
        "  * 이름이 있는/named **functions**\n",
        "    * 반복시키기 위해서 이름을 주어주는 것\n",
        "    * ex) `def` , `print`\n",
        "    * functional = 함수형\n",
        "  * 이름 없는 **Lambda**\n",
        "    * 람다대수(λ-calculus)란 함수를 함수-함수의 연산으로 수학처럼 추상화한 체계\n",
        "    * 함수를 연결시켜주는 아이\n",
        "    * `lambda layer`은 짧고 간단한 기능을 만들기 위해서 한 번만 또는 임시로 쓰고 버리는 경우에 적합하기에\n",
        "    \n",
        "      계속 반복해서 사용하고 싶을 땐 `def`"
      ],
      "metadata": {
        "id": "TEAufu1spV6G"
      }
    },
    {
      "cell_type": "markdown",
      "source": [
        "##### 3) **클래스(Class)**\n",
        "* **class 변수**\n",
        "  * class가 직접 사용할 수 있는 것\n",
        "  * class변수는 class새끼 변수들(instance)이 다 각각 자기만의 값을 가질 수 있음\n",
        "\n",
        "* **class instance 변수**\n",
        "  ```\n",
        "  class A:\n",
        "     pass\n",
        "\n",
        "  a = A()   #A라는 클래스 안에 a를 인스턴스로 정의해주는 것\n",
        "```\n",
        "    * 인스턴스 메소드(instance method)가 실행될 시점에 생성됨\n",
        "    * _**인스턴스 변수에 없으면 클래스 변수를 찾아서 감**_ (like LEGB where the order goes from local to global)\n",
        "    * instance값을 공유하고 싶을 때 사용\n",
        "  \n",
        "    class 변수에 지정해주면 모든 instance가 공유하게 됨\n",
        "    * `vars` 를 통해서 인스턴스 attribute를 모두 확인할 수 있음\n",
        "    * `self` 는 인스턴스 그 자체를 self라고 함\n",
        "\n",
        "      주의할 점은\n",
        "\n",
        "        * **instance method** 를 실행할 땐 첫번째 인자인 self는 무조건 생략해야\n",
        "      \n",
        "        * **함수**일땐 배정된 갯수에 따라 인자갯수에 맞춰서 ()에 집어넣어주어야 하기 때문에 self 생략 _**불가**_\n",
        "\n",
        "\n",
        "\n",
        "\n",
        "* **class(object)**\n",
        "  * _**상속**_\n",
        "    * `class(object)`를 하면 object라는 클래스의 기능을 모두 _위임_ 받을 수 있음\n",
        "\n",
        "    * 사실상 파이썬에서 '상속'은 **delegation**임,, 위임처럼 실행 순서 개념일뿐!\n",
        "  \n",
        "    * for example, 애가 하지 못해서 부모님한테 가서 해달라고 하는 것과 비슷한 상황,\n",
        "    * 있는건 웬만하면 가져다가 쓰고, 필요한 부분만 첨가하면 되기 때문에 상속을 사용하는 것\n",
        "    \n",
        "    * 즉, 모르면 그 상위체로 '찾아간다'고 해석할 수 있음\n",
        "    * 상속의 형태로 파이썬의 **추상화**를 구현할 수 있음\n",
        "\n",
        "    * 상속은 **composition**처럼 만들 수 있음\n",
        "\n",
        "  * _**다중상속**_ : 두명 이상의 부모를 가질 수 있는/받을 수 있는 클래스\n",
        "\n",
        "    * `A.mro()` 하면 (method resolution order) 누구부터 찾아가서 읽어야하는지, 정의해야하는지 순서를 알려줌\n",
        "    * **mixin method** : 다중상속 테크니크\n",
        "      * 상속 받을 클래스 안에 기능이 한개만 있도록\n",
        "      * 다중 상속을 받을 때 기능 충돌로 혼란이 생기지 않도록 사용하는 기법임\n",
        "      * 클래스별로 할일을 쪼개주는 aspect programming을 사용해주면 됨\n",
        "    * **`super`**\n",
        "      \n",
        "      : 자기자신의 부모를 인스턴스화 하라는 뜻\n",
        "    \n",
        "      : 부모 클래스의 인스턴스를 받아올 때 인자가 중복해서 출력되는 경우를 방지함\n",
        "\n",
        "      ```\n",
        "     class A:\n",
        "       def __init__(self):\n",
        "         print('A')\n",
        "      ```\n",
        "\n",
        "      ```\n",
        "      class B(A):\n",
        "        def __init__(self):\n",
        "         # A.__init__(self)\n",
        "        super(B,self).__init__()          #instance라서 self 생략해야\n",
        "         print('B')\n",
        "\n",
        "      ```\n",
        "\n",
        "      ```\n",
        "      class C(A):\n",
        "        def __init__(self):\n",
        "        # A.__init__(self)\n",
        "        super().__init__()                #super(C,self).__init__() 의 단축표현으로, \"부모의 인스턴스를 받아와서 내 인스턴스로 받아라\"라는 뜻\n",
        "         print('C')\n",
        "\n",
        "      ```\n",
        "      ```\n",
        "      class D(B,C):\n",
        "        def __init__(self):\n",
        "        # B.__init__(self)\n",
        "        # C.__init__(self)\n",
        "        super().__init__()                # super을 쓰니 MRO에 따라서 부모를 출력시켜줌 (다중상속 시 중복 출력을 방지해주는 역할)\n",
        "         print('D')\n",
        "      ```\n",
        "      ```\n",
        "      In d = D()\n",
        "      Out A\n",
        "          B\n",
        "          C\n",
        "          D\n",
        "      ```\n",
        "\n",
        "\n",
        "\n",
        "* **meta class**\n",
        "  *\n",
        "\n",
        "\n",
        "\n",
        "\n",
        "* **methods** : _class안에 정의된 함수 , a function inside a class_\n",
        "  * **@classmethod** : a method that works with the class itself, not individual objects\n",
        "\n",
        "  * **@instancemethod** : a regular function defined in a class that works with individual objects(=instances)\n",
        "\n",
        "  * **@staticmethod** : class를 함수처럼 사용할 수 있어서 유지보수에 용이\n",
        "\n",
        "\n",
        "\n",
        "* 함수와 클래스의 역할은 interchangeable 하다\n",
        "\n",
        "\n",
        "```\n",
        "class A:        \n",
        "  a = 1              # a는 class 변수\n",
        "  def x(self):       # x는 instance 메소드\n",
        "    self.b = 1       # b는 instance 변수 (not self.b)\n",
        "    print('x')\n",
        "\n",
        "    @classmethod\n",
        "    def yy(cls):     #classmethod\n",
        "      print('cls')\n",
        "```\n"
      ],
      "metadata": {
        "id": "I1V7q9dtpI25"
      }
    },
    {
      "cell_type": "markdown",
      "source": [
        "#### **`()()`**\n",
        "* ()()는 함수를 두 번 호출하는 구조\n",
        "\t* **첫 번째 ( ) / inner ( )**: 함수를 호출하고, 다른 함수(또는 값)를 반환\n",
        "\t* **두 번째 ( ) / outer ( )**: 반환된 함수(또는 값)를 다시 호출\n",
        "* 클로저 구조에서 빠른 계산을 출력할 수 있음\n",
        "* 고차함수(high order 함수)에서 함수를 인자로 받아서 한번에 return할 수 있음\n",
        "\n",
        "\n",
        "\n",
        "```\n",
        "def x(m):\n",
        "  def y(n):\n",
        "    return m+n\n",
        "  return y\n",
        "```\n",
        "\n",
        "\n",
        "```\n",
        "In  x(3)(4)\n",
        "Out 7\n",
        "```\n",
        "\n",
        "\n"
      ],
      "metadata": {
        "id": "LhRvwyfFpsvM"
      }
    },
    {
      "cell_type": "markdown",
      "source": [
        "#### **closure**\n",
        "\n",
        "* callable한 함수 안에 있는 또 다른 callable한 함수\n",
        "* 바깥 함수의 변수를 기억하고 사용할 수 있는 함수\n",
        "* 클로저는 “함수가 자신을 둘러싼 환경을 기억하고 나중에 사용한다”는 장점이 있음\n",
        "\n",
        "* ```\n",
        "def x():\n",
        "  def y():\n",
        "    return 1\n",
        "  return y\n",
        "```\n",
        "\n",
        "\n",
        "\n",
        "* ```\n",
        "def x(m):\n",
        "  def y(n):\n",
        "    return m+n\n",
        "  return y\n",
        "```\n",
        "```\n",
        "In x(3)(4)\n",
        "Out 7\n",
        "```\n",
        "\n",
        "* closure 중 첫번째 인자가 함수인 경우 만들어지는 function closure을 decorator 이라고 함\n"
      ],
      "metadata": {
        "id": "XaHv36cXrJew"
      }
    },
    {
      "cell_type": "markdown",
      "source": [
        "#### **decorator**\n",
        "* 기존 함수에 새로운 기능을 추가/덧붙히는 것\n",
        "* 함수의 기능을 확장시켜주는 애\n",
        "* `@`의 형태임\n",
        "* decorator은 누가 만든 함수에다가 새로운 기능을 덧붙혀주는 반면\n",
        "\n",
        "  delegation은 특정 클래스를 상속 받아서 그 클래스의 기능을 사용할 수 있는 것\n",
        "  \n",
        "* 클래스 두개에서 같은, 혹은 유사한 기능이 있을 경우 다중 상속 받을 때 혼선이 생기기 때문에, 이 기능만 빼서 클래스 하나로 정의를 해주기도 함\n",
        "\n"
      ],
      "metadata": {
        "id": "U2z33OGXmpBF"
      }
    },
    {
      "cell_type": "markdown",
      "source": [
        "\n",
        "#### **duck-typing**\n",
        "* “If it looks like a duck and quacks like a duck, it must be a duck” 🦆\n",
        "* 데이터의 타입과 무관하게 기능에 따라 처리되는 것\n",
        "\n",
        "* if an object behaves like a certain type (by having the right methods or attributes), it is treated as that type, without the need to check its actual class\n",
        "* `dir()`했을 때  `__call__` `__class__`이 뜰 수 있도록 (callable로 해석할 수 있도록) 정의해주는 것\n",
        "\n",
        "\n",
        "```\n",
        "class A:\n",
        "    def __call__(self, *args, **kwargs):  \n",
        "        print( )\n",
        "\n",
        "   # fyi) self,*args,*kwargs allow you to pass any number of positional and keyword arguments when calling the object\n",
        "```\n",
        "\n"
      ],
      "metadata": {
        "id": "MV-NEHOQi9dx"
      }
    },
    {
      "cell_type": "markdown",
      "source": [
        "### **Recursion**\n",
        "\n",
        "* used as a primary control structure but 큰 데이터를 파이썬으로 처리할 땐 _안쓴다!!_\n",
        "* a defined function can call itself where a function calls itself, giving the benefit of being able to loop through data to reach a result\n",
        "* 자기 자신이 그 다음 변수가 되는 _**피보나치 등차수열 등비수열**_ 이 대표적인 예시\n",
        "* recursion을 잘 쓰진 않지만, recursion 방식으로 안푸는 대신 loop 을 하지 않고도 돌아갈 수 있는 **dynamic programming**으로 풀어야\n",
        "* **tail recursion elimination**을 통해서 재귀함수를 호출할 때 스택을 재사용하면서 메모리를 과도하게 사용하지 않도록 최적화하도록 할 수 있으나, 파이썬은 이를 지원해주지 않기 때문에 recursion을 안쓰는 이유도 있다"
      ],
      "metadata": {
        "id": "Pe8aa2R3cNdo"
      }
    },
    {
      "cell_type": "markdown",
      "source": [
        "### **List Processing**"
      ],
      "metadata": {
        "id": "onZ3-TXfcT5Y"
      }
    },
    {
      "cell_type": "markdown",
      "source": [
        "### **Comprehension**\n",
        "* used like an operation on the data set (whether it is a list, dict, or set) that is generally a few lines of code and shrinks to a single or multiple lines, thereby increasing the readability and making the code compact\n",
        "  * `list`\n",
        "  * `set`\n",
        "  * `dictionary`"
      ],
      "metadata": {
        "id": "hfFv0HaNcfFQ"
      }
    },
    {
      "cell_type": "markdown",
      "source": [
        "### **Generator**\n",
        ":  a special kind of iterator, which stores the instructions for how to generate each of its members, in order, along with its current state of iterations. it generates each member, one at a time, only as it is requested via iteration.\n",
        "\n",
        "  * has the same syntax as list comprehensions, but don't have square brackets around them but parentheses are needed syntactically in some contexts, in place of brackets\n",
        "\n",
        "  * generator과 iterator은 친척임\n",
        "  * 둘의 내부는 똑같으나 만드는 방식만 다름\n",
        "  * iterator 는 `__iter__`을 붙혀서 만드는 반면, generator은\n",
        "  \n",
        "    1) tuple 방식으로 **comprehension** 형태를 만들어주거나,\n",
        "\n",
        "    2) `yield`를 사용하거나 (yield 해준 순서대로 출력)\n",
        "\n",
        "  * 주의해야할 점은, 메모리에 올려주고 나면 휘발시켜버리기 때문에 시점에 따라서 값이 달라질 수 있다는 점\n",
        "\n",
        "   ```\n",
        "    a = [1,2,3,4,5]\n",
        "    b = iter(a)\n",
        "      next(b)   \n",
        "\n",
        "    #IN\n",
        "    list(b)\n",
        "    #OUT\n",
        "    [2, 3, 4, 5]            #현재 남아있는 b는 1이 없어진 구조체임\n",
        "    ```\n",
        "\n",
        "\n"
      ],
      "metadata": {
        "id": "rpXBGLtsckrT"
      }
    },
    {
      "cell_type": "markdown",
      "source": [
        "### **Iterable**\n",
        "_순서에 맞춰서_ 여러 개의 함수 묶음에서 함수를 한개씩 뽑을 수 있는 **iterator**가 될 수 있는 후보군인 데이터 타입이다\n",
        "* `__iter__`이 정의가 되어있어야 사용 가능함\n",
        "* `next`를 부를 때만 메모리에 각각 올림 (comprehension은 한번에 정보를 왕창 메모리에 올리기 때문에 가상 메모리로 넘어가기도 하고 이런 이유로 많이 느려지곤 하는데, 데이터를 많이 처리할 땐 iter처럼 메모리를 한개씩 올리는게 좋을 때가 있음\n",
        "  \n",
        "   단, 데이터를 하나씩 올리기 때문에 데이터를 탐색하는 데에 한계가 있음\n",
        "\n",
        "   예컨대 a[1]를 했을 때 navigate 못할 확률이 높음)\n",
        "\n",
        "* `a.__next__()`(pythonic style)로 표현해도 `next(a)`와 똑같은 출력을 뽑음\n",
        "\n",
        "\n",
        " *  ```\n",
        "  x = [1,2,3]           #x list는 iterable, 즉 iterator이 될 수 있는 후보군\n",
        "  y = iter(x)           #y는 iterator의 instance\n",
        "\n",
        "  #IN\n",
        "  next(y)\n",
        "  #OUT\n",
        "  1\n",
        "\n",
        "  #IN\n",
        "  next(y)\n",
        "  #OUT\n",
        "  2\n",
        "\n",
        "  #IN\n",
        "  next(y)\n",
        "  #OUT\n",
        "  3\n",
        "  ```\n",
        "\n",
        "\n",
        "\n",
        "---\n",
        "\n",
        "* **iterator**?\n",
        "  * `iter()` 을 붙히면 기존 코드를 iterator으로 변신시켜줄 수 있음\n",
        "  * iter을 안붙혀도 iter의 기능이 있는지 알려면 dir('') 안에 대입했을 때 출력 된 목록 중 `__iter__`이 있는지 보면 됨\n",
        "  * iter을 안붙혀도 iter의 기능이 있는지 알려면 `'iter' in dir('')` 으로 출력된 t/f로 파악도 가능\n",
        "  * iterator이 되면 `next`를 사용해서 함수 묶음 내에서 하나씩 함수를 _순서에 맞춰서_ 뽑아낼 수 있게 됨\n",
        "\n",
        "---\n",
        "\n",
        "* **iterator**과 **iter**이 나뉘는 이유는?\n",
        "  * **Aspect Programming** 때문\n",
        "  *\n",
        "\n"
      ],
      "metadata": {
        "id": "XygBPABGIozR"
      }
    },
    {
      "cell_type": "markdown",
      "source": [
        "## **Logic Programming**\n",
        "* based on formal logic\n",
        "* takes a declarative approach to problem solving\n",
        "* isn't made up of instructions, but rather of facts and clauses\n",
        "* uses everything it knows and tries to come up with a world where all of those facts and clauses are true"
      ],
      "metadata": {
        "id": "6gmHJyU0z39V"
      }
    },
    {
      "cell_type": "markdown",
      "source": [
        "## **Database Processing**\n",
        "* is based on data and its movement\n",
        "* defined by data rather than hard coding a series of steps"
      ],
      "metadata": {
        "id": "6ffrYaH3z9mQ"
      }
    },
    {
      "cell_type": "markdown",
      "source": [
        "# **데이터 처리의 3총사 : Map•Filter•Reduce**\n",
        "\n"
      ],
      "metadata": {
        "id": "eAIR5lHVoLgc"
      }
    },
    {
      "cell_type": "markdown",
      "source": [
        "### **Map**\n",
        "* dictionary 할때 사용되며, **key**와 **value**(데이터에 더해진 해석)를 대응시켜줄 때 사용\n",
        "* **함수**와 **함수**또한 연결시켜줄 수 있음\n",
        "  ```\n",
        "  map(lambda x:x+1, [1,2,3,4])\n",
        "\n",
        "  #1을 x:x+1에 넣고, 2를 x:x+1에 넣고, 3을 x:x+1에 넣고, 4를 x:x+1에 넣는 iterator로 변신하는 람다\n",
        "  #map으로 람다와 [튜플]을 하나씩 대응\n",
        "  ```\n",
        "  ```\n",
        "  #In\n",
        "  x = [1,2,3,4]\n",
        "  list(map(lambda x:x+1, x))    # [t+1 for t in x] 대신에\n",
        "  \n",
        "  #Out\n",
        "  [2, 3, 4, 5]\n",
        "  ```\n",
        "\n",
        "* python의 map은 pytorch와 tensorflow의 lambda로 표현됨\n"
      ],
      "metadata": {
        "id": "h27895-STC-k"
      }
    },
    {
      "cell_type": "markdown",
      "source": [
        "###**Filter**\n",
        "* 걸러주는 것"
      ],
      "metadata": {
        "id": "BC9Jt8KMTE9V"
      }
    },
    {
      "cell_type": "markdown",
      "source": [
        "###**Reduce**\n",
        "* 여러개의 결과값을 하나로 추리는 것\n"
      ],
      "metadata": {
        "id": "tfuBBdFHTGkh"
      }
    },
    {
      "cell_type": "markdown",
      "source": [
        "# **추상화 (abstract method)**\n",
        "1. 상속의 형태로 구현\n",
        "2. 메타클래스로 구현"
      ],
      "metadata": {
        "id": "6ea2O2WXoLqA"
      }
    }
  ]
}
